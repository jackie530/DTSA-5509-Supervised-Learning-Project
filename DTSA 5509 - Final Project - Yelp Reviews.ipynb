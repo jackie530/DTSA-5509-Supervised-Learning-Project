{
 "cells": [
  {
   "cell_type": "markdown",
   "id": "8fcbf00e",
   "metadata": {},
   "source": [
    "# DTSA 5509 - Final Project : Yelp Reviews, Real or Fake?"
   ]
  },
  {
   "cell_type": "markdown",
   "id": "08132852",
   "metadata": {},
   "source": [
    "## Project Topic"
   ]
  },
  {
   "cell_type": "markdown",
   "id": "b2cb5e4e",
   "metadata": {},
   "source": [
    "This project will explore building a supervised machine learning model to detect whether a restaturants review posted on Yelp is either fake or real. This problem will be a binary classification \"real\" or \"fake\" problem. The model will be trained on the Yelp public dataset that contains labeled examples of fake and real reviews. \n",
    "\n",
    "The goal is to develop an accurate model that can help businesses be able to identify fake reviews that are harming their business and reputation. I want to achieve this problem by using some text preprocessing techniques in the dataset to train a Support Vector Machine (SVM). This project is important because fake reviews can be misleading to other new potential customers and can harm the reputation of a business. Therefore, being able to have a tool like this will allow the reviews to be identified accurately and will help to maintain the credibility of reviews which will help businesses thrive."
   ]
  },
  {
   "cell_type": "markdown",
   "id": "dda7fe84",
   "metadata": {},
   "source": [
    "## Data Description"
   ]
  },
  {
   "cell_type": "markdown",
   "id": "e23dc062",
   "metadata": {},
   "source": [
    "I will be using the Yelp Dataset that is publicly available here: https://www.yelp.com/dataset\n",
    "\n",
    "The data contains 1.2 million tips by 1.6 million users. And 1.2 million business attributes. Therefore, it is a large dataset. Now let's explore some other things we can learn about our data. Due to the large dataset and memory issues, will work with reduced data for this project."
   ]
  },
  {
   "cell_type": "code",
   "execution_count": 2,
   "id": "a4b7eefb",
   "metadata": {},
   "outputs": [],
   "source": [
    "import pandas as pd"
   ]
  },
  {
   "cell_type": "markdown",
   "id": "ecabf311",
   "metadata": {},
   "source": [
    "#### The Yelp Business file contains information about businesses on Yelp, including the business ID, name, address, city, state, postal code, latitude, longitude, star rating, review count, and other attributes. The file has 150346 rows (i.e., businesses) and 14 columns (i.e., features). The file size is 118863795 bytes. Most of the features are categorical."
   ]
  },
  {
   "cell_type": "code",
   "execution_count": null,
   "id": "82a542f1",
   "metadata": {},
   "outputs": [],
   "source": [
    "business_df = pd.read_json('yelp_academic_dataset_business.json', lines=True)\n"
   ]
  },
  {
   "cell_type": "code",
   "execution_count": null,
   "id": "03c8845c",
   "metadata": {},
   "outputs": [],
   "source": [
    "print(f\"Number of rows: {business_df.shape[0]}\")\n",
    "print(f\"Number of columns: {business_df.shape[1]}\")"
   ]
  },
  {
   "cell_type": "code",
   "execution_count": null,
   "id": "4c2a1b08",
   "metadata": {},
   "outputs": [],
   "source": [
    "print(business_df.head(10))"
   ]
  },
  {
   "cell_type": "markdown",
   "id": "6f496d27",
   "metadata": {},
   "source": [
    "### The check in file contains information about check-ins at businesses on Yelp, including the business ID, date, and number of check-ins. The file has 131930 rows (i.e., check-ins) and 2 columns (i.e., features). The file size is 286958945 bytes. The features are all categorical."
   ]
  },
  {
   "cell_type": "code",
   "execution_count": null,
   "id": "25dc417a",
   "metadata": {},
   "outputs": [],
   "source": [
    "check_in_df = pd.read_json('yelp_academic_dataset_checkin.json', lines=True)"
   ]
  },
  {
   "cell_type": "code",
   "execution_count": null,
   "id": "4a42eada",
   "metadata": {},
   "outputs": [],
   "source": [
    "print(f\"Number of rows: {check_in_df.shape[0]}\")\n",
    "print(f\"Number of columns: {check_in_df.shape[1]}\")"
   ]
  },
  {
   "cell_type": "code",
   "execution_count": null,
   "id": "cec41786",
   "metadata": {},
   "outputs": [],
   "source": [
    "print(check_in_df.head(10))"
   ]
  },
  {
   "cell_type": "markdown",
   "id": "dce0992f",
   "metadata": {},
   "source": [
    "Reviews is very large dataset and my computer runs out of memory loading the file. So I will be using 100,000 rows of this dataset"
   ]
  },
  {
   "cell_type": "markdown",
   "id": "fa5500ae",
   "metadata": {},
   "source": [
    "### The Reviews Yelp file contains information about reviews of businesses on Yelp, including the review ID, user ID, business ID, star rating, date, and text of the review. The file has 100000 rows (i.e., reviews) and 9 columns (i.e., features). The file size is 5341868833 bytes. The text of the review is a long string, while the other features are either categorical or numeric."
   ]
  },
  {
   "cell_type": "code",
   "execution_count": 34,
   "id": "d4e870ba",
   "metadata": {},
   "outputs": [],
   "source": [
    "reviews_df = pd.read_json('yelp_academic_dataset_review.json', lines=True, nrows=1000000)"
   ]
  },
  {
   "cell_type": "code",
   "execution_count": 38,
   "id": "fa069b16",
   "metadata": {},
   "outputs": [
    {
     "data": {
      "text/plain": [
       "5    458612\n",
       "4    221897\n",
       "1    138625\n",
       "3    102954\n",
       "2     77912\n",
       "Name: stars, dtype: int64"
      ]
     },
     "execution_count": 38,
     "metadata": {},
     "output_type": "execute_result"
    }
   ],
   "source": [
    "# Count the number of reviews for each star rating\n",
    "star_counts = reviews_df['stars'].value_counts()\n",
    "\n",
    "# Determine the minimum number of reviews for any star rating\n",
    "min_star_count = star_counts.min()\n",
    "\n",
    "star_counts"
   ]
  },
  {
   "cell_type": "code",
   "execution_count": 39,
   "id": "0580795d",
   "metadata": {},
   "outputs": [],
   "source": [
    "reviews_df = pd.concat([\n",
    "    reviews_df[reviews_df['stars'] == 1].sample(1300, replace = True),\n",
    "    reviews_df[reviews_df['stars'] == 2].sample(1200, replace = True),\n",
    "    reviews_df[reviews_df['stars'] == 3].sample(1000, replace = True),\n",
    "    reviews_df[reviews_df['stars'] == 4].sample(1100, replace = True),\n",
    "    reviews_df[reviews_df['stars'] == 5].sample(1000, replace = True)\n",
    "])"
   ]
  },
  {
   "cell_type": "code",
   "execution_count": 40,
   "id": "0fb342c9",
   "metadata": {
    "scrolled": true
   },
   "outputs": [
    {
     "name": "stdout",
     "output_type": "stream",
     "text": [
      "Number of rows: 5600\n",
      "Number of columns: 9\n"
     ]
    }
   ],
   "source": [
    "print(f\"Number of rows: {reviews_df.shape[0]}\")\n",
    "print(f\"Number of columns: {reviews_df.shape[1]}\")"
   ]
  },
  {
   "cell_type": "code",
   "execution_count": 41,
   "id": "4572c16f",
   "metadata": {},
   "outputs": [
    {
     "name": "stdout",
     "output_type": "stream",
     "text": [
      "                     review_id                 user_id  \\\n",
      "33750   POPXbZshy4elva4PE6kxpA  C-wzlV1-xCprsvO-w4bOBA   \n",
      "938493  pGkA78ym0trmqW2VtMOk_Q  _yrcpls_L6meQcI31MV58A   \n",
      "190068  UwDRF8P_UHeJz57oBkT4xg  NAXKMADoCg9jrfSZpdBSzQ   \n",
      "475569  qKTkDi9fE9i_FGwpJ5xjNw  LhAXKz5_0BNpkMcvZWS0sw   \n",
      "459271  vh_AjdEojZGp7WWd4A8z4w  WMGv9-aDe15M13UpXHIOGw   \n",
      "886547  ONdvK4mZMCi2kJ6ZUKC-cg  Xw7ZjaGfr0WNVt6s_5KZfA   \n",
      "909187  1VP4Z2Z-08iVsWbjkZbHgg  Pv-Pi8WEkMrvo8-Bzn2ELg   \n",
      "51175   lCsAisddSFUyerRxOLDZ_A  hk5843hXGL72mJf95vwGnQ   \n",
      "614302  _sj_33Ae47Akrvi3_s45Rw  TV2GjGimjjbpOiP03vXK1Q   \n",
      "738894  Se5EHne18csABLckKkS4Aw  xHTC8GTaFOhjALEqWAWGqg   \n",
      "\n",
      "                   business_id  stars  useful  funny  cool  \\\n",
      "33750   rQCTWNMzIZTfqWEAjxDpKQ      1       0      1     0   \n",
      "938493  bbzD8rZl3i-NTzernYkxig      1       1      1     0   \n",
      "190068  iGFGMP5x2PSbAZJudk186Q      1       5      0     1   \n",
      "475569  fI8kWao4ejLDDGgWNxKiHw      1       2      0     0   \n",
      "459271  XlLogD78dDkqnXFlmwhVhA      1       3      0     2   \n",
      "886547  ieric54HPiWIGMscvU_7Tg      1       5      4     3   \n",
      "909187  DMYWMY96WF1ueecIpOA4ZA      1       0      0     0   \n",
      "51175   jMZ56S8Y1t7cA1Ob-d-qeA      1       0      1     0   \n",
      "614302  DVbsnj9WH8Qd5exQZ4SV7g      1       0      0     0   \n",
      "738894  x1jISqtNYQufDbn9HFSWHg      1       1      0     0   \n",
      "\n",
      "                                                     text                date  \n",
      "33750   Never again. I have been threw drive thur 3 ti... 2015-04-19 23:05:46  \n",
      "938493  Bad service, they aren't respectful to their c... 2018-03-31 18:30:02  \n",
      "190068  I am a senior citizen and have always bought m... 2015-10-11 04:03:06  \n",
      "475569  Quite simply the worst customer service I've e... 2014-04-30 01:30:46  \n",
      "459271  The worst service ever. We lease a home that t... 2017-12-28 23:36:30  \n",
      "886547  Well, I would tell you how this place is, but ... 2013-01-09 20:06:31  \n",
      "909187  Beer and wine sales tax ripoff:\\n\\nThe Red Rob... 2009-04-10 22:51:03  \n",
      "51175   Don't waste your time. Long line. Touristic pl... 2014-10-13 02:27:58  \n",
      "614302  Called in at 7:55 , no answer . Showed up at 8... 2021-06-30 03:18:23  \n",
      "738894  You have got to be kidding me, I only wish I c... 2015-03-19 04:08:27  \n"
     ]
    }
   ],
   "source": [
    "print(reviews_df.head(10))"
   ]
  },
  {
   "cell_type": "markdown",
   "id": "cad83763",
   "metadata": {},
   "source": [
    "### The Tip Yelp file contains tips (i.e., short comments) from Yelp users about businesses. Including the user ID, business ID, date, and text of the tip. The file has 908915 rows (i.e., tips) and 5 columns (i.e., features). The file size is 180604475 bytes. The text of the tip is a long string, while the other features are either categorical or date/time."
   ]
  },
  {
   "cell_type": "code",
   "execution_count": null,
   "id": "5009855f",
   "metadata": {},
   "outputs": [],
   "source": [
    "tip_df = pd.read_json('yelp_academic_dataset_tip.json', lines=True)"
   ]
  },
  {
   "cell_type": "code",
   "execution_count": null,
   "id": "63509f64",
   "metadata": {},
   "outputs": [],
   "source": [
    "print(f\"Number of rows: {tip_df.shape[0]}\")\n",
    "print(f\"Number of columns: {tip_df.shape[1]}\")"
   ]
  },
  {
   "cell_type": "code",
   "execution_count": null,
   "id": "ee830338",
   "metadata": {},
   "outputs": [],
   "source": [
    "print(tip_df.head(10))"
   ]
  },
  {
   "cell_type": "markdown",
   "id": "2ef5ce59",
   "metadata": {},
   "source": [
    "### The Yelp User file contains information about Yelp users, including the user ID, name, review count, yelping since date, friends, average star rating, and other attributes. The file has 10000 rows (i.e., users) and 22 columns (i.e., features). The file size is 3363329011 bytes. Majority of the features are either categorical or text with a few numeric features like review count and average star rating."
   ]
  },
  {
   "cell_type": "code",
   "execution_count": null,
   "id": "8f5cd554",
   "metadata": {},
   "outputs": [],
   "source": [
    "user_df = pd.read_json('yelp_academic_dataset_user.json', lines=True, nrows=10000)"
   ]
  },
  {
   "cell_type": "code",
   "execution_count": null,
   "id": "ebfbe7fb",
   "metadata": {},
   "outputs": [],
   "source": [
    "print(f\"Number of rows: {user_df.shape[0]}\")\n",
    "print(f\"Number of columns: {user_df.shape[1]}\")"
   ]
  },
  {
   "cell_type": "code",
   "execution_count": null,
   "id": "a96485a4",
   "metadata": {},
   "outputs": [],
   "source": [
    "print(user_df.head(10))"
   ]
  },
  {
   "cell_type": "code",
   "execution_count": null,
   "id": "53ac54ab",
   "metadata": {},
   "outputs": [],
   "source": [
    "import os\n",
    "business_filesize = os.path.getsize('yelp_academic_dataset_business.json')\n",
    "review_filesize = os.path.getsize('yelp_academic_dataset_review.json')\n",
    "user_filesize = os.path.getsize('yelp_academic_dataset_user.json')\n",
    "checkin_filesize = os.path.getsize('yelp_academic_dataset_checkin.json')\n",
    "tip_filesize = os.path.getsize('yelp_academic_dataset_tip.json')\n",
    "\n",
    "print(f\"Business file size: {business_filesize} bytes\")\n",
    "print(f\"Review file size: {review_filesize} bytes\")\n",
    "print(f\"User file size: {user_filesize} bytes\")\n",
    "print(f\"Checkin file size: {checkin_filesize} bytes\")\n",
    "print(f\"Tip file size: {tip_filesize} bytes\")\n"
   ]
  },
  {
   "cell_type": "markdown",
   "id": "9379c290",
   "metadata": {},
   "source": [
    "## Data Cleaning And EDA"
   ]
  },
  {
   "cell_type": "markdown",
   "id": "ff0ddde6",
   "metadata": {},
   "source": [
    "Want to focus on the Reviews Dataset to work on the classification problem of either 'fake' or 'real' reviews.\n",
    "\n",
    "First we will Drop an irrelevant columns from our data.Then drop any rows with missing values or duplicate rows."
   ]
  },
  {
   "cell_type": "code",
   "execution_count": 42,
   "id": "c16bd749",
   "metadata": {},
   "outputs": [],
   "source": [
    "# Drop irrelevant columns \n",
    "reviews_df = reviews_df[['stars', 'text']]\n",
    "\n",
    "# Drop rows with missing values\n",
    "reviews_df.dropna(inplace=True)\n",
    "\n",
    "# Drop duplicate rows\n",
    "reviews_df.drop_duplicates(subset=['text', 'stars'], inplace=True)\n"
   ]
  },
  {
   "cell_type": "markdown",
   "id": "5c4de2a9",
   "metadata": {},
   "source": [
    "Create a histogram visualization to look at the distribution of star ratings. Below we see that the majority of the star ratings are positive, usually (4 or 5). \n",
    "\n",
    "Looks like I will need to balance the classes to handle the imbalance of the ratings."
   ]
  },
  {
   "cell_type": "code",
   "execution_count": 43,
   "id": "e7cbe31d",
   "metadata": {},
   "outputs": [
    {
     "data": {
      "image/png": "[encoded data removed]",
      "text/plain": [
       "<Figure size 432x288 with 1 Axes>"
      ]
     },
     "metadata": {
      "needs_background": "light"
     },
     "output_type": "display_data"
    }
   ],
   "source": [
    "import matplotlib.pyplot as plt\n",
    "\n",
    "# Create a histogram of the star ratings\n",
    "plt.hist(reviews_df['stars'], bins=5, range=(0.5, 5.5), rwidth=0.8)\n",
    "plt.xlabel('Star rating')\n",
    "plt.ylabel('Count')\n",
    "plt.title('Distribution of star ratings in Yelp reviews')\n",
    "plt.show()\n"
   ]
  },
  {
   "cell_type": "markdown",
   "id": "520998d8",
   "metadata": {},
   "source": [
    "Review Text Length"
   ]
  },
  {
   "cell_type": "markdown",
   "id": "1665415e",
   "metadata": {},
   "source": [
    "From the distribution below we can see that the majority of the review text lengths are on the shorter side. "
   ]
  },
  {
   "cell_type": "code",
   "execution_count": 44,
   "id": "539ea2ca",
   "metadata": {},
   "outputs": [
    {
     "data": {
      "image/png": "[encoded data removed]",
      "text/plain": [
       "<Figure size 432x288 with 1 Axes>"
      ]
     },
     "metadata": {
      "needs_background": "light"
     },
     "output_type": "display_data"
    }
   ],
   "source": [
    "# Calculate the length of each review text\n",
    "review_lengths = reviews_df['text'].apply(lambda x: len(x))\n",
    "\n",
    "# Create a histogram of the review text length\n",
    "plt.hist(review_lengths, bins=50, range=(0, 5000), rwidth=0.8)\n",
    "plt.xlabel('Review text length')\n",
    "plt.ylabel('Count')\n",
    "plt.title('Distribution of review text lengths in Yelp reviews')\n",
    "plt.show()\n"
   ]
  },
  {
   "cell_type": "markdown",
   "id": "e7672054",
   "metadata": {},
   "source": [
    "Look for missing values in columns"
   ]
  },
  {
   "cell_type": "markdown",
   "id": "8a45d006",
   "metadata": {},
   "source": [
    "Looking at the plot below we can confirm that there are no missing values in the stars and text columns."
   ]
  },
  {
   "cell_type": "code",
   "execution_count": 45,
   "id": "809207ce",
   "metadata": {},
   "outputs": [
    {
     "data": {
      "image/png": "[encoded data removed]",
      "text/plain": [
       "<Figure size 432x288 with 1 Axes>"
      ]
     },
     "metadata": {
      "needs_background": "light"
     },
     "output_type": "display_data"
    }
   ],
   "source": [
    "# Count the number of missing values in each column\n",
    "missing_values = reviews_df.isnull().sum()\n",
    "\n",
    "# Create a bar chart of the missing values\n",
    "plt.bar(missing_values.index, missing_values.values)\n",
    "plt.xlabel('Column name')\n",
    "plt.ylabel('Number of missing values')\n",
    "plt.title('Number of missing values in Yelp review dataset')\n",
    "plt.show()\n"
   ]
  },
  {
   "cell_type": "markdown",
   "id": "ab525970",
   "metadata": {},
   "source": [
    "## Modeling Analysis and Results"
   ]
  },
  {
   "cell_type": "markdown",
   "id": "06dbfb27",
   "metadata": {},
   "source": [
    "### Text preprocessing and Feature engineering on Reviews"
   ]
  },
  {
   "cell_type": "code",
   "execution_count": 46,
   "id": "346f9f90",
   "metadata": {},
   "outputs": [],
   "source": [
    "import numpy as np\n",
    "import string\n",
    "from sklearn.feature_extraction.text import CountVectorizer, TfidfTransformer\n",
    "from sklearn.preprocessing import LabelEncoder\n",
    "from sklearn.model_selection import train_test_split\n",
    "from sklearn.svm import LinearSVC\n",
    "from sklearn.metrics import accuracy_score, confusion_matrix\n",
    "\n",
    "\n",
    "# Define a function to preprocess the review text\n",
    "def preprocess_text(text):\n",
    "    # Remove punctuation and convert to lowercase\n",
    "    text = text.translate(str.maketrans('', '', string.punctuation)).lower()\n",
    "    # Perform word-level tokenization\n",
    "    tokens = text.split()\n",
    "    # Perform character-level tokenization\n",
    "    char_tokens = [list(token) for token in tokens]\n",
    "    # Combine word-level and character-level tokens\n",
    "    tokens = tokens + [''.join(char_token) for char_token in char_tokens]\n",
    "    # Create n-grams from the tokens\n",
    "    ngram_tokens = []\n",
    "    for n in range(1, 4):\n",
    "        ngram_tokens += [tokens[i:i+n] for i in range(len(tokens)-n+1)]\n",
    "    return ' '.join([' '.join(ngram) for ngram in ngram_tokens])\n"
   ]
  },
  {
   "cell_type": "markdown",
   "id": "cb575c39",
   "metadata": {},
   "source": [
    "### Next Apply the preprocessing function built above on the Yelp Reviews Data and Encode Ratings"
   ]
  },
  {
   "cell_type": "code",
   "execution_count": 47,
   "id": "22ff24e7",
   "metadata": {},
   "outputs": [],
   "source": [
    "# Apply the preprocessing function to the review text\n",
    "reviews_df['text'] = reviews_df['text'].apply(preprocess_text)\n",
    "\n",
    "# Encode the star ratings as 0 (fake) or 1 (real)\n",
    "label_encoder = LabelEncoder()\n",
    "reviews_df['stars'] = label_encoder.fit_transform(reviews_df['stars'])"
   ]
  },
  {
   "cell_type": "markdown",
   "id": "634b9841",
   "metadata": {},
   "source": [
    "### Create the training and test sets and use stratified sampling due to the imbalance of our reviews data we found when exploring our data"
   ]
  },
  {
   "cell_type": "code",
   "execution_count": 48,
   "id": "7e33cdaa",
   "metadata": {},
   "outputs": [],
   "source": [
    "# Split the dataset into training and testing sets\n",
    "#using stratified sampling due to the imbalance of our reviews\n",
    "X_train, X_test, y_train, y_test = train_test_split(reviews_df['text'], reviews_df['stars'], test_size=0.2, stratify=reviews_df['stars'], random_state=42)\n",
    "\n",
    "# Define a vectorizer to create a bag-of-words representation of the text\n",
    "vectorizer = CountVectorizer(ngram_range=(1, 3), max_features=5000, stop_words='english')\n",
    "X_train_counts = vectorizer.fit_transform(X_train)\n",
    "\n",
    "# Define a transformer to calculate the term frequency–inverse document frequency\n",
    "tfidf_transformer = TfidfTransformer()\n",
    "X_train_tfidf = tfidf_transformer.fit_transform(X_train_counts)"
   ]
  },
  {
   "cell_type": "markdown",
   "id": "157895a0",
   "metadata": {},
   "source": [
    "### Train SVC Linear Model and Test it using our testing set"
   ]
  },
  {
   "cell_type": "code",
   "execution_count": 49,
   "id": "84fe0362",
   "metadata": {},
   "outputs": [],
   "source": [
    "# Train a LinearSVC model on the training set\n",
    "clf = LinearSVC()\n",
    "clf.fit(X_train_tfidf, y_train)\n",
    "\n",
    "# Test the model on the testing set\n",
    "X_test_counts = vectorizer.transform(X_test)\n",
    "X_test_tfidf = tfidf_transformer.transform(X_test_counts)\n",
    "y_pred = clf.predict(X_test_tfidf)"
   ]
  },
  {
   "cell_type": "markdown",
   "id": "dd51b148",
   "metadata": {},
   "source": [
    "### Evaluate the results from our model and see how it did or if any changes need to be done"
   ]
  },
  {
   "cell_type": "code",
   "execution_count": 50,
   "id": "711f90e8",
   "metadata": {},
   "outputs": [
    {
     "name": "stdout",
     "output_type": "stream",
     "text": [
      "Accuracy: 0.48473967684021546\n",
      "Confusion matrix: [[177  59  14   4   4]\n",
      " [ 77  86  51  16   9]\n",
      " [ 23  59  56  40  20]\n",
      " [ 11  30  36  97  45]\n",
      " [  7  10   7  52 124]]\n"
     ]
    }
   ],
   "source": [
    "# Evaluate the accuracy of the model\n",
    "accuracy = accuracy_score(y_test, y_pred)\n",
    "print('Accuracy:', accuracy)\n",
    "confusion = confusion_matrix(y_test, y_pred)\n",
    "print('Confusion matrix:', confusion)\n"
   ]
  },
  {
   "cell_type": "code",
   "execution_count": 51,
   "id": "6bd4f65a",
   "metadata": {},
   "outputs": [
    {
     "name": "stdout",
     "output_type": "stream",
     "text": [
      "              precision    recall  f1-score   support\n",
      "\n",
      "           0       0.60      0.69      0.64       258\n",
      "           1       0.35      0.36      0.36       239\n",
      "           2       0.34      0.28      0.31       198\n",
      "           3       0.46      0.44      0.45       219\n",
      "           4       0.61      0.62      0.62       200\n",
      "\n",
      "    accuracy                           0.48      1114\n",
      "   macro avg       0.47      0.48      0.48      1114\n",
      "weighted avg       0.48      0.48      0.48      1114\n",
      "\n"
     ]
    }
   ],
   "source": [
    "from sklearn.metrics import classification_report\n",
    "\n",
    "report = classification_report(y_test, y_pred)\n",
    "print(report)\n"
   ]
  },
  {
   "cell_type": "markdown",
   "id": "42e5f1b3",
   "metadata": {},
   "source": [
    "The above shows some bias towards predicting well for star ratings of 0 or 4 since those are the majority of the ratings in the review dataset. This makes me wonder what I have always thought, which is that I feel most people tend to leave a rating/review when they had an absolutely amazing experience or a horrible one. But I will be exploring some SVM Modeling below."
   ]
  },
  {
   "cell_type": "markdown",
   "id": "871596d5",
   "metadata": {},
   "source": [
    "## SVM Modeling"
   ]
  },
  {
   "cell_type": "markdown",
   "id": "66c87550",
   "metadata": {},
   "source": [
    "Defin the target and features for the Model"
   ]
  },
  {
   "cell_type": "code",
   "execution_count": 53,
   "id": "f1ff8cb5",
   "metadata": {},
   "outputs": [],
   "source": [
    "import numpy as np\n",
    "import pandas as pd\n",
    "from sklearn.feature_extraction.text import TfidfVectorizer\n",
    "from sklearn.model_selection import train_test_split, GridSearchCV\n",
    "from sklearn.svm import SVC\n",
    "from sklearn.metrics import accuracy_score, confusion_matrix\n",
    "from imblearn.over_sampling import RandomOverSampler\n",
    "\n",
    "# Define the target variable\n",
    "threshold = 3\n",
    "reviews_df['is_fake'] = np.where(reviews_df['stars'] <= threshold, 1, 0)\n",
    "target = reviews_df['is_fake']\n",
    "\n",
    "# Define the features\n",
    "vectorizer = TfidfVectorizer(stop_words='english', ngram_range=(1, 3), max_features=10000)\n",
    "features = vectorizer.fit_transform(reviews_df['text'])"
   ]
  },
  {
   "cell_type": "markdown",
   "id": "879b5f9a",
   "metadata": {},
   "source": [
    "Splitting our data into their respective training and testing data sets to use later."
   ]
  },
  {
   "cell_type": "code",
   "execution_count": 54,
   "id": "2615128d",
   "metadata": {},
   "outputs": [],
   "source": [
    "# Split the data into training and testing sets\n",
    "X_train, X_test, y_train, y_test = train_test_split(features, target, test_size=0.2, random_state=42)"
   ]
  },
  {
   "cell_type": "markdown",
   "id": "809fcb18",
   "metadata": {},
   "source": [
    "Now doing some balancing for our classes as mentioned before, this was an issue we found in our data. So I'll be using oversampling to do some balancing."
   ]
  },
  {
   "cell_type": "code",
   "execution_count": 55,
   "id": "376efa61",
   "metadata": {},
   "outputs": [],
   "source": [
    "#Balance the classes using oversampling\n",
    "oversampler = RandomOverSampler(random_state=42)\n",
    "X_train, y_train = oversampler.fit_resample(X_train, y_train)"
   ]
  },
  {
   "cell_type": "markdown",
   "id": "9c18bcd7",
   "metadata": {},
   "source": [
    "Next will do hyperparameter tuning and some Grid Search to find the best hyperparameters"
   ]
  },
  {
   "cell_type": "code",
   "execution_count": 56,
   "id": "49d29907",
   "metadata": {},
   "outputs": [
    {
     "name": "stdout",
     "output_type": "stream",
     "text": [
      "Best hyperparameters: {'C': 1, 'degree': 3, 'kernel': 'poly'}\n"
     ]
    }
   ],
   "source": [
    "# Define the parameter grid for hyperparameter tuning\n",
    "param_grid = {'C': [0.1, 1, 10], 'kernel': ['linear', 'rbf', 'poly'], 'degree': [2, 3, 4]}\n",
    "\n",
    "# Perform grid search cross-validation to find the best hyperparameters\n",
    "svm_classifier = SVC()\n",
    "grid_search = GridSearchCV(svm_classifier, param_grid, cv=5)\n",
    "grid_search.fit(X_train, y_train)\n",
    "print('Best hyperparameters:', grid_search.best_params_)"
   ]
  },
  {
   "cell_type": "markdown",
   "id": "1bb970f7",
   "metadata": {},
   "source": [
    "Then will train the SVM classifier on the training set we split and created."
   ]
  },
  {
   "cell_type": "code",
   "execution_count": 57,
   "id": "cf4f3805",
   "metadata": {},
   "outputs": [
    {
     "data": {
      "text/plain": [
       "SVC(C=1, kernel='poly')"
      ]
     },
     "execution_count": 57,
     "metadata": {},
     "output_type": "execute_result"
    }
   ],
   "source": [
    "# Train the classifier on the training data using the best hyperparameters\n",
    "svm_classifier = SVC(**grid_search.best_params_)\n",
    "svm_classifier.fit(X_train, y_train)"
   ]
  },
  {
   "cell_type": "markdown",
   "id": "7eb91b6d",
   "metadata": {},
   "source": [
    "Will be using the testing data now to make some predictions"
   ]
  },
  {
   "cell_type": "code",
   "execution_count": 58,
   "id": "ccbacf8c",
   "metadata": {},
   "outputs": [],
   "source": [
    "# Make predictions on the test data\n",
    "y_pred = svm_classifier.predict(X_test)"
   ]
  },
  {
   "cell_type": "markdown",
   "id": "d35dcdf2",
   "metadata": {},
   "source": [
    "Lastly, will evaluate out SVM classifier and see how it did in terms of accuracy."
   ]
  },
  {
   "cell_type": "code",
   "execution_count": 59,
   "id": "a4dd2ca3",
   "metadata": {},
   "outputs": [
    {
     "name": "stdout",
     "output_type": "stream",
     "text": [
      "Accuracy: 0.8177737881508079\n",
      "Confusion Matrix:  [[  0 202]\n",
      " [  1 911]]\n"
     ]
    }
   ],
   "source": [
    "# Evaluate the accuracy of the classifier\n",
    "accuracy = accuracy_score(y_test, y_pred)\n",
    "print('Accuracy:', accuracy)\n",
    "# Print the confusion matrix\n",
    "confusion = confusion_matrix(y_test, y_pred)\n",
    "print('Confusion Matrix: ', confusion)"
   ]
  },
  {
   "cell_type": "code",
   "execution_count": 69,
   "id": "d95643c2",
   "metadata": {},
   "outputs": [
    {
     "data": {
      "image/png": "[encoded data removed]",
      "text/plain": [
       "<Figure size 576x432 with 2 Axes>"
      ]
     },
     "metadata": {
      "needs_background": "light"
     },
     "output_type": "display_data"
    }
   ],
   "source": [
    "import matplotlib.pyplot as plt\n",
    "import seaborn as sns\n",
    "\n",
    "# Create heatmap\n",
    "fig, ax = plt.subplots(figsize=(8, 6))\n",
    "sns.heatmap(confusion, annot=True, fmt='d', cmap='Blues', ax=ax)\n",
    "ax.set_xlabel('Predicted Labels')\n",
    "ax.set_ylabel('True Labels')\n",
    "ax.set_title('Confusion Matrix')\n",
    "plt.show()\n"
   ]
  },
  {
   "cell_type": "code",
   "execution_count": 66,
   "id": "6223361b",
   "metadata": {},
   "outputs": [
    {
     "name": "stdout",
     "output_type": "stream",
     "text": [
      "F1-score: 0.9994514536478333\n"
     ]
    }
   ],
   "source": [
    "from sklearn.metrics import f1_score\n",
    "y_true_real = y_test[y_test == 1]\n",
    "y_pred_real = y_pred[y_test == 1]\n",
    "\n",
    "# Compute the F1-score of fake\n",
    "f1_real = f1_score(y_true_real, y_pred_real)\n",
    "\n",
    "print('F1-score:', f1_real)"
   ]
  },
  {
   "cell_type": "markdown",
   "id": "4a825655",
   "metadata": {},
   "source": [
    "## Conclusion/Discussion"
   ]
  },
  {
   "cell_type": "markdown",
   "id": "81f5614b",
   "metadata": {},
   "source": [
    "From the results above, using SVM modeling the model greatly improved from a Linear SVC model with an accuracy of 0.48 to an SVM classifier model with an accuracy of 0.82. Using grid search to find the best hyperparameters enabled the model to perform better in terms of accuracy compared to the previous model created. As for the F1 score we get a score of about 0.999."
   ]
  },
  {
   "cell_type": "markdown",
   "id": "5978d381",
   "metadata": {},
   "source": [
    "For this project I explored a binary classifying Yelp Reviews as 'real' or 'fake'. First I did some data cleaning and exploration and then some preprocessing. I experimented with different algorithms, including linear svc, gradient boosting, SVM, and grid search cross validation to tune the hyperparameters for the final SVM classifier. The results show that I was able to achieve a relatively high accuracy of 82% on a balanced data set with about 1,000 reviews per star. However, there could be some further improvements such as experimenting with different text preprocessing techniques. There were also some limitations such as computer memory issues and not being able to utilize the full dataset in the millions. I think being able to use the full dataset would've resulted in better scores but even with the reduced data I was still able to reach a reasonable accuracy. \n",
    "\n",
    "In conclusion, while I was able to reach a relatively high accuracy on the Yelp dataset using SVM classifier there still needs to be more work on improving the model to identify 'fake' reviews. I hope I was able to highlight the improtance of this project in experimenting with different techniques for handling large data and imbalance along with some feature engineering to get proper results."
   ]
  }
 ],
 "metadata": {
  "kernelspec": {
   "display_name": "Python 3 (ipykernel)",
   "language": "python",
   "name": "python3"
  },
  "language_info": {
   "codemirror_mode": {
    "name": "ipython",
    "version": 3
   },
   "file_extension": ".py",
   "mimetype": "text/x-python",
   "name": "python",
   "nbconvert_exporter": "python",
   "pygments_lexer": "ipython3",
   "version": "3.9.12"
  }
 },
 "nbformat": 4,
 "nbformat_minor": 5
}
